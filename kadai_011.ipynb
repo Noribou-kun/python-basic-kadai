{
  "nbformat": 4,
  "nbformat_minor": 0,
  "metadata": {
    "colab": {
      "provenance": []
    },
    "kernelspec": {
      "name": "python3",
      "display_name": "Python 3"
    },
    "language_info": {
      "name": "python"
    }
  },
  "cells": [
    {
      "cell_type": "code",
      "execution_count": null,
      "metadata": {
        "colab": {
          "base_uri": "https://localhost:8080/"
        },
        "id": "_HCwxHIVpbcU",
        "outputId": "aeb2b1d9-5fc7-4fec-bdbb-9fec6e359bda"
      },
      "outputs": [
        {
          "output_type": "stream",
          "name": "stdout",
          "text": [
            "3\n"
          ]
        }
      ],
      "source": [
        "print(1+2)"
      ]
    },
    {
      "cell_type": "code",
      "source": [
        "age = 18\n",
        "if age < 20:\n",
        "    print (\"じゅーsで乾杯！\")\n",
        "else:\n",
        "    print (\"お酒で乾杯\")"
      ],
      "metadata": {
        "colab": {
          "base_uri": "https://localhost:8080/"
        },
        "id": "EusCBdWPqXuh",
        "outputId": "140139c1-fd95-45e1-c77e-6d4a34151698"
      },
      "execution_count": null,
      "outputs": [
        {
          "output_type": "stream",
          "name": "stdout",
          "text": [
            "じゅーsで乾杯！\n"
          ]
        }
      ]
    },
    {
      "cell_type": "code",
      "source": [],
      "metadata": {
        "id": "2arHgSgDKG9N"
      },
      "execution_count": null,
      "outputs": []
    },
    {
      "cell_type": "code",
      "source": [],
      "metadata": {
        "id": "-LC4Peo1KJBv"
      },
      "execution_count": null,
      "outputs": []
    },
    {
      "cell_type": "code",
      "source": [
        "print (\"晴れ\" * 5)\n"
      ],
      "metadata": {
        "colab": {
          "base_uri": "https://localhost:8080/"
        },
        "id": "CFCeb4mq0NFQ",
        "outputId": "139b98c4-53bd-4997-abf8-9924fa6c3dfd"
      },
      "execution_count": null,
      "outputs": [
        {
          "output_type": "stream",
          "name": "stdout",
          "text": [
            "晴れ晴れ晴れ晴れ晴れ\n"
          ]
        }
      ]
    },
    {
      "cell_type": "code",
      "source": [
        "number1 = 5\n",
        "number2 = 2.5\n",
        "print (number1 + number2)\n",
        "\n",
        "user_name = \"侍太郎\"\n",
        "print (user_name)\n",
        "\n",
        "user_name = \"侍花子\"\n",
        "print (user_name)"
      ],
      "metadata": {
        "colab": {
          "base_uri": "https://localhost:8080/"
        },
        "id": "yHkRSkR615Er",
        "outputId": "6d0bd2de-f79f-4320-ada7-db861d88b6f3"
      },
      "execution_count": null,
      "outputs": [
        {
          "output_type": "stream",
          "name": "stdout",
          "text": [
            "7.5\n",
            "侍太郎\n",
            "侍花子\n"
          ]
        }
      ]
    },
    {
      "cell_type": "code",
      "source": [
        "last_name = \"侍\"\n",
        "first_name = \"太郎\"\n",
        "sister_name = \"花子\"\n",
        "\n",
        "print (f\"私の名前は{last_name}{first_name}です。妹の名前は{sister_name}です。\")"
      ],
      "metadata": {
        "colab": {
          "base_uri": "https://localhost:8080/"
        },
        "id": "yNu6O9gS2jqX",
        "outputId": "18fdbdc9-b450-44d8-9460-cc0ba6e722e2"
      },
      "execution_count": null,
      "outputs": [
        {
          "output_type": "stream",
          "name": "stdout",
          "text": [
            "私の名前は侍太郎です。妹の名前は花子です。\n"
          ]
        }
      ]
    },
    {
      "cell_type": "code",
      "source": [
        "upper = 10\n",
        "lower = 20\n",
        "hight = 5\n",
        "\n",
        "area = (upper + lower) * hight / 2\n",
        "print (f\"{area}cm²\")"
      ],
      "metadata": {
        "colab": {
          "base_uri": "https://localhost:8080/"
        },
        "id": "KCXWAJeP4xRJ",
        "outputId": "64aa9dd5-7085-47e2-a156-365ca567479f"
      },
      "execution_count": null,
      "outputs": [
        {
          "output_type": "stream",
          "name": "stdout",
          "text": [
            "75.0cm²\n"
          ]
        }
      ]
    },
    {
      "cell_type": "code",
      "source": [
        "upper = 10\n",
        "lower = 20\n",
        "hight = 5\n",
        "\n",
        "print (f\"{(upper + lower) * hight / 2}cm²\")"
      ],
      "metadata": {
        "colab": {
          "base_uri": "https://localhost:8080/"
        },
        "id": "XnkQzshN6DGr",
        "outputId": "a3dce686-00e4-4d79-c1b1-df53047efefb"
      },
      "execution_count": null,
      "outputs": [
        {
          "output_type": "stream",
          "name": "stdout",
          "text": [
            "75.0cm²\n"
          ]
        }
      ]
    },
    {
      "cell_type": "markdown",
      "source": [],
      "metadata": {
        "id": "SeF-GtcroJT-"
      }
    },
    {
      "cell_type": "markdown",
      "source": [],
      "metadata": {
        "id": "YwEr_9AxoJqk"
      }
    },
    {
      "cell_type": "code",
      "source": [
        "user_names = [\"侍太郎\", \"侍一郎\", \"侍二郎\", \"侍三郎\", \"侍四郎\" ]\n",
        "print (user_names[1])\n",
        "\n",
        "user_names[1] = \"侍花子\"\n",
        "print(user_names)\n",
        "\n",
        "user_names.append(\"侍五郎\")\n",
        "print(user_names)\n",
        "\n",
        "user_names.pop(2)\n",
        "print (user_names)\n"
      ],
      "metadata": {
        "colab": {
          "base_uri": "https://localhost:8080/"
        },
        "id": "g-vEVVzUlIBl",
        "outputId": "acc97c81-7e1c-4410-a702-0d875cf1ef06"
      },
      "execution_count": null,
      "outputs": [
        {
          "output_type": "stream",
          "name": "stdout",
          "text": [
            "侍一郎\n",
            "['侍太郎', '侍花子', '侍二郎', '侍三郎', '侍四郎']\n",
            "['侍太郎', '侍花子', '侍二郎', '侍三郎', '侍四郎', '侍五郎']\n",
            "['侍太郎', '侍花子', '侍三郎', '侍四郎', '侍五郎']\n"
          ]
        }
      ]
    },
    {
      "cell_type": "code",
      "source": [
        "user_names = [\"侍太郎\", \"侍一郎\", \"侍二郎\", \"侍三郎\", \"侍四郎\" ]\n",
        "\n",
        "for user_name in user_names:\n",
        "  print (user_name)"
      ],
      "metadata": {
        "colab": {
          "base_uri": "https://localhost:8080/"
        },
        "id": "ivUfVkewhPSi",
        "outputId": "e18b102a-419e-487c-ea92-2ca7a81172a6"
      },
      "execution_count": null,
      "outputs": [
        {
          "output_type": "stream",
          "name": "stdout",
          "text": [
            "侍太郎\n",
            "侍一郎\n",
            "侍二郎\n",
            "侍三郎\n",
            "侍四郎\n"
          ]
        }
      ]
    },
    {
      "cell_type": "code",
      "source": [
        "country_names = {\"日本\", \"アアメリカ\", \"イギリス\", \"フランス\"}\n",
        "print(country_names)\n",
        "\n",
        "country_names.add(\"ドイツ\")\n",
        "print(country_names)\n",
        "\n",
        "country_names.remove(\"イギリス\")\n",
        "print(country_names)\n",
        "\n"
      ],
      "metadata": {
        "colab": {
          "base_uri": "https://localhost:8080/"
        },
        "id": "a34RuqNJqrJ3",
        "outputId": "10794ab7-dbaf-4a43-d6fb-80b87834f2cd"
      },
      "execution_count": null,
      "outputs": [
        {
          "output_type": "stream",
          "name": "stdout",
          "text": [
            "{'アアメリカ', '日本', 'イギリス', 'フランス'}\n",
            "{'アアメリカ', 'ドイツ', 'イギリス', '日本', 'フランス'}\n",
            "{'アアメリカ', 'ドイツ', '日本', 'フランス'}\n"
          ]
        }
      ]
    },
    {
      "cell_type": "code",
      "source": [
        "personal_data = {\"name\": \"侍太郎\", \"age\": 36, \"gender\":\"男性\"}\n",
        "\n",
        "print(personal_data[\"name\"])\n",
        "\n",
        "print (personal_data)\n",
        "\n",
        "personal_data[\"age\"] = 37\n",
        "\n",
        "personal_data[\"address\"] = \"東京都\"\n",
        "\n",
        "print(personal_data)\n"
      ],
      "metadata": {
        "colab": {
          "base_uri": "https://localhost:8080/"
        },
        "id": "SxVJIQKevGA0",
        "outputId": "14bb6232-5e48-490e-cafe-1417ecbfcaa2"
      },
      "execution_count": null,
      "outputs": [
        {
          "output_type": "stream",
          "name": "stdout",
          "text": [
            "侍太郎\n",
            "{'name': '侍太郎', 'age': 36, 'gender': '男性'}\n",
            "{'name': '侍太郎', 'age': 37, 'gender': '男性', 'address': '東京都'}\n"
          ]
        }
      ]
    },
    {
      "cell_type": "code",
      "source": [
        "array = [\"月曜日は晴れです\", \"火曜日は雨です\", \"水曜日は晴れです\", \"木曜日は晴れです\", \"金行日は曇りです\", \"土曜日は曇りのち雨です\", \"日曜日は雷雨です\"]\n",
        "\n",
        "print(array[2])\n",
        "\n",
        "dictionary = {\"mon\":\"晴れ\", \"tue\":\"雨\", \"wed\":\"晴れ\", \"thu\":\"晴れ\", \"fri\":\"曇り\", \"sat\":\"曇りのち雨\", \"sun\":\"雷雨\"}\n",
        "print(dictionary[\"wed\"])\n"
      ],
      "metadata": {
        "colab": {
          "base_uri": "https://localhost:8080/"
        },
        "id": "-3qI4WO7yBkz",
        "outputId": "1758c11a-a0ca-43f8-feeb-3de1acb619c8"
      },
      "execution_count": null,
      "outputs": [
        {
          "output_type": "stream",
          "name": "stdout",
          "text": [
            "水曜日は晴れです\n",
            "晴れ\n"
          ]
        }
      ]
    },
    {
      "cell_type": "code",
      "source": [],
      "metadata": {
        "id": "53E2CyroysQc"
      },
      "execution_count": null,
      "outputs": []
    },
    {
      "cell_type": "code",
      "source": [
        "print (45 + 18)\n",
        "print (45 > 18)"
      ],
      "metadata": {
        "colab": {
          "base_uri": "https://localhost:8080/"
        },
        "id": "MmSdPkIXrXxr",
        "outputId": "97084aa2-dc7b-4880-e264-f15b7f7c0996"
      },
      "execution_count": null,
      "outputs": [
        {
          "output_type": "stream",
          "name": "stdout",
          "text": [
            "63\n",
            "True\n"
          ]
        }
      ]
    },
    {
      "cell_type": "code",
      "source": [
        "num1 = 5\n",
        "num2 = \"5\"\n",
        "\n",
        "if num1 == int(num2):\n",
        "     print(\"num1とnum2は等しいです\")"
      ],
      "metadata": {
        "colab": {
          "base_uri": "https://localhost:8080/"
        },
        "id": "3WrpGVWrsC5U",
        "outputId": "4f162b69-76ee-469a-d8c7-5145fbaaacde"
      },
      "execution_count": null,
      "outputs": [
        {
          "output_type": "stream",
          "name": "stdout",
          "text": [
            "num1とnum2は等しいです\n"
          ]
        }
      ]
    },
    {
      "cell_type": "code",
      "source": [
        "import random\n",
        "num = random.randint(0, 4)\n",
        "print(num)\n",
        "\n",
        "\n",
        "if 1 < num and num < 3:\n",
        "     print(\"変数numは1よりおおきく、3より小さいです\")\n",
        "else:\n",
        "     print (\"and条件がなりたちませんでした\")\n",
        "\n",
        "if num == 1 or num == 3:\n",
        "     print(\"変数numは1または3です\")\n",
        "else:\n",
        "     print(\"or条件が成り立ちませんでした\")"
      ],
      "metadata": {
        "colab": {
          "base_uri": "https://localhost:8080/"
        },
        "id": "ZrUXCD74KMS4",
        "outputId": "9c3f11bf-e5a2-46e8-c050-3b73c1aaf255"
      },
      "execution_count": null,
      "outputs": [
        {
          "output_type": "stream",
          "name": "stdout",
          "text": [
            "3\n",
            "and条件がなりたちませんでした\n",
            "変数numは1または3です\n"
          ]
        }
      ]
    },
    {
      "cell_type": "code",
      "source": [
        "import random\n",
        "var = random.randint(0,100)\n",
        "print (var)\n",
        "\n",
        "if var % 3 == 0 and var % 5 == 0:\n",
        "   print (\"FizzBuzz\")\n",
        "\n",
        "elif var % 3 == 0:\n",
        "   print (\"FIZZ\")\n",
        "\n",
        "elif var % 5 == 0 and var % 3 != 0 :\n",
        "   print (\"Buzz\")\n",
        "\n"
      ],
      "metadata": {
        "colab": {
          "base_uri": "https://localhost:8080/"
        },
        "id": "h4WcrV_8OJCo",
        "outputId": "731c171c-e7c5-4028-8312-2bb7c6983a9a"
      },
      "execution_count": null,
      "outputs": [
        {
          "output_type": "stream",
          "name": "stdout",
          "text": [
            "10\n",
            "Buzz\n"
          ]
        }
      ]
    },
    {
      "cell_type": "code",
      "source": [],
      "metadata": {
        "id": "uM7kFAICZotA"
      },
      "execution_count": null,
      "outputs": []
    },
    {
      "cell_type": "code",
      "source": [
        "for i in range (1,11):\n",
        "      print (i)"
      ],
      "metadata": {
        "colab": {
          "base_uri": "https://localhost:8080/"
        },
        "id": "CXK5N37_Y-u6",
        "outputId": "9706e1fe-a613-4764-a446-e649b843a6ac"
      },
      "execution_count": null,
      "outputs": [
        {
          "output_type": "stream",
          "name": "stdout",
          "text": [
            "1\n",
            "2\n",
            "3\n",
            "4\n",
            "5\n",
            "6\n",
            "7\n",
            "8\n",
            "9\n",
            "10\n"
          ]
        }
      ]
    },
    {
      "cell_type": "code",
      "source": [
        "import random\n",
        "\n",
        "for i in range (1, 11):\n",
        "    num = random.randint(1,20)\n",
        "    print(f\"{i}回目の結果は{num}です。\")\n",
        "\n",
        "    if num == 20:\n",
        "        print (\"20が出たので繰り返し処理を強制終了します。\")\n",
        "        break"
      ],
      "metadata": {
        "colab": {
          "base_uri": "https://localhost:8080/"
        },
        "id": "EhAKc-HeZqFZ",
        "outputId": "d3e01277-185f-4f40-da33-30ad23247da0"
      },
      "execution_count": null,
      "outputs": [
        {
          "output_type": "stream",
          "name": "stdout",
          "text": [
            "1回目の結果は14です。\n",
            "2回目の結果は6です。\n",
            "3回目の結果は1です。\n",
            "4回目の結果は19です。\n",
            "5回目の結果は18です。\n",
            "6回目の結果は16です。\n",
            "7回目の結果は4です。\n",
            "8回目の結果は3です。\n",
            "9回目の結果は4です。\n",
            "10回目の結果は12です。\n"
          ]
        }
      ]
    },
    {
      "cell_type": "code",
      "source": [
        "for i in range (1, 11):\n",
        "  if i % 2 == 1:\n",
        "     continue\n",
        "  print (i)"
      ],
      "metadata": {
        "colab": {
          "base_uri": "https://localhost:8080/"
        },
        "id": "pcO-Owx_bZNi",
        "outputId": "3b2d6ec6-8411-414b-be78-5e8cfeedf9ca"
      },
      "execution_count": null,
      "outputs": [
        {
          "output_type": "stream",
          "name": "stdout",
          "text": [
            "2\n",
            "4\n",
            "6\n",
            "8\n",
            "10\n"
          ]
        }
      ]
    },
    {
      "cell_type": "code",
      "source": [
        "import random\n",
        "num = random.randint(0, 4)\n",
        "print (f\"最初の値は{num}です。\")\n",
        "\n",
        "while num != 0:\n",
        "  num = random.randint(0,4)\n",
        "  print (f\"現在の値は{num}です。\")"
      ],
      "metadata": {
        "colab": {
          "base_uri": "https://localhost:8080/"
        },
        "id": "rQ9Kr89dcYOo",
        "outputId": "ef7d1bc4-a730-472b-d212-5e5daa92eb01"
      },
      "execution_count": null,
      "outputs": [
        {
          "output_type": "stream",
          "name": "stdout",
          "text": [
            "最初の値は1です。\n",
            "現在の値は2です。\n",
            "現在の値は4です。\n",
            "現在の値は4です。\n",
            "現在の値は0です。\n"
          ]
        }
      ]
    },
    {
      "cell_type": "code",
      "source": [
        "import random\n",
        "num = random.randint(0,4)\n",
        "\n",
        "i = 1\n",
        "\n",
        "print(f\"最初の値は{num}です。\")\n",
        "\n",
        "while num != 0:\n",
        "  num = random.randint(0,4)\n",
        "  if i == 5:\n",
        "    print(\"5回目なので繰り返し処理を強制終了します。\")\n",
        "    break\n",
        "\n",
        "  print(f\"現在の値は{num}です。\")\n",
        "  i= i + 1\n"
      ],
      "metadata": {
        "colab": {
          "base_uri": "https://localhost:8080/"
        },
        "id": "hk3DtwnCdQ62",
        "outputId": "806d719e-ec44-425f-c650-7f6e5ab04d20"
      },
      "execution_count": null,
      "outputs": [
        {
          "output_type": "stream",
          "name": "stdout",
          "text": [
            "最初の値は4です。\n",
            "現在の値は4です。\n",
            "現在の値は4です。\n",
            "現在の値は2です。\n",
            "現在の値は4です。\n",
            "5回目なので繰り返し処理を強制終了します。\n"
          ]
        }
      ]
    },
    {
      "cell_type": "code",
      "source": [
        "import random\n",
        "sum =0\n",
        "\n",
        "while sum < 20:\n",
        "  num = random.randint (1, 10)\n",
        "  print (f\"{num}がでました。\")\n",
        "\n",
        "  if num % 2 == 0:\n",
        "    print(\"偶数委なので加算しません。\")\n",
        "    continue\n",
        "\n",
        "  sum = sum + num\n",
        "  print(f\"現在の合計は{sum}です。\")"
      ],
      "metadata": {
        "colab": {
          "base_uri": "https://localhost:8080/"
        },
        "id": "L8iDQ2GCfY0C",
        "outputId": "00928cce-b8b7-402e-e06d-9421f8424227"
      },
      "execution_count": null,
      "outputs": [
        {
          "output_type": "stream",
          "name": "stdout",
          "text": [
            "4がでました。\n",
            "偶数委なので加算しません。\n",
            "1がでました。\n",
            "現在の合計は1です。\n",
            "6がでました。\n",
            "偶数委なので加算しません。\n",
            "4がでました。\n",
            "偶数委なので加算しません。\n",
            "10がでました。\n",
            "偶数委なので加算しません。\n",
            "1がでました。\n",
            "現在の合計は2です。\n",
            "9がでました。\n",
            "現在の合計は11です。\n",
            "2がでました。\n",
            "偶数委なので加算しません。\n",
            "8がでました。\n",
            "偶数委なので加算しません。\n",
            "2がでました。\n",
            "偶数委なので加算しません。\n",
            "10がでました。\n",
            "偶数委なので加算しません。\n",
            "8がでました。\n",
            "偶数委なので加算しません。\n",
            "4がでました。\n",
            "偶数委なので加算しません。\n",
            "2がでました。\n",
            "偶数委なので加算しません。\n",
            "6がでました。\n",
            "偶数委なので加算しません。\n",
            "7がでました。\n",
            "現在の合計は18です。\n",
            "10がでました。\n",
            "偶数委なので加算しません。\n",
            "9がでました。\n",
            "現在の合計は27です。\n"
          ]
        }
      ]
    },
    {
      "cell_type": "code",
      "source": [
        "personal_data = {\"name\": \"侍太郎\", \"age\": 36, \"gender\":\"男性\"}\n",
        "\n",
        "for key, value in personal_data.items():\n",
        "  print (f\"{key}は{value}です。\")\n",
        "\n",
        "for value in personal_data.values():\n",
        "  print(value)"
      ],
      "metadata": {
        "colab": {
          "base_uri": "https://localhost:8080/"
        },
        "id": "Bvtm4bVDdAUx",
        "outputId": "fda0b7ee-cf99-4089-8eff-3b736d39cfd8"
      },
      "execution_count": null,
      "outputs": [
        {
          "output_type": "stream",
          "name": "stdout",
          "text": [
            "nameは侍太郎です。\n",
            "ageは36です。\n",
            "genderは男性です。\n",
            "侍太郎\n",
            "36\n",
            "男性\n"
          ]
        }
      ]
    },
    {
      "cell_type": "code",
      "source": [
        "user_names = [\"侍太郎\", \"侍一郎\", \"侍二郎\", \"侍三郎\", \"侍四郎\" ]\n",
        "\n",
        "for index, value in enumerate (user_names):\n",
        "  print(f\"{index}:{value}\")"
      ],
      "metadata": {
        "colab": {
          "base_uri": "https://localhost:8080/"
        },
        "id": "0V4z-uIiilSH",
        "outputId": "22af8e35-4919-43e2-d161-a4ad6f3d4cc4"
      },
      "execution_count": null,
      "outputs": [
        {
          "output_type": "stream",
          "name": "stdout",
          "text": [
            "0:侍太郎\n",
            "1:侍一郎\n",
            "2:侍二郎\n",
            "3:侍三郎\n",
            "4:侍四郎\n"
          ]
        }
      ]
    },
    {
      "cell_type": "code",
      "source": [
        "user_names = [\"侍太郎\", \"侍一郎\", \"侍二郎\", \"侍三郎\", \"侍四郎\" ]\n",
        "\n",
        "target = \"侍二郎\"\n",
        "\n",
        "for user_name in user_names:\n",
        "  print (user_name)\n",
        "\n",
        "  if (user_name == target):\n",
        "    print (f\"{target}さんが見つかったので、繰り返し処理を強制終了します。\")\n",
        "    break"
      ],
      "metadata": {
        "colab": {
          "base_uri": "https://localhost:8080/"
        },
        "id": "0YYaX_CvjJFs",
        "outputId": "d605db26-ac61-4015-baf2-4ade2b0900cd"
      },
      "execution_count": null,
      "outputs": [
        {
          "output_type": "stream",
          "name": "stdout",
          "text": [
            "侍太郎\n",
            "侍一郎\n",
            "侍二郎\n",
            "侍二郎さんが見つかったので、繰り返し処理を強制終了します。\n"
          ]
        }
      ]
    },
    {
      "cell_type": "code",
      "source": [
        "score = {\n",
        "    \"国語\": 80, \"数学\": 55, \"理科\": 70, \"社会\": 85, \"英語\": 60\n",
        "}\n",
        "\n",
        "print(\"合格した科目は以下のとおりです。\")\n",
        "\n",
        "for key, value in score.items():\n",
        "  if (value < 70):\n",
        "    continue\n",
        "  print(f\"{key}:{value}点\")"
      ],
      "metadata": {
        "colab": {
          "base_uri": "https://localhost:8080/"
        },
        "id": "PkJeGmL2jseT",
        "outputId": "f62c10d1-7f9c-4964-a752-0f06dd318cae"
      },
      "execution_count": null,
      "outputs": [
        {
          "output_type": "stream",
          "name": "stdout",
          "text": [
            "合格した科目は以下のとおりです。\n",
            "国語:80点\n",
            "理科:70点\n",
            "社会:85点\n"
          ]
        }
      ]
    },
    {
      "cell_type": "code",
      "source": [
        "array = [\"水\", \"金\", \"地\", \"火\", \"木\", \"土\", \"天\", \"海\", \"冥\"]\n",
        "\n",
        "i =1\n",
        "\n",
        "if i == 1\n",
        "\n",
        "for array in array:\n",
        "    print (array)\n",
        "\n",
        "    i = 1 +1"
      ],
      "metadata": {
        "colab": {
          "base_uri": "https://localhost:8080/",
          "height": 110
        },
        "id": "QdEsjvI0pQh5",
        "outputId": "6360cd7f-4361-4e99-deba-af17b99875e4"
      },
      "execution_count": null,
      "outputs": [
        {
          "output_type": "error",
          "ename": "SyntaxError",
          "evalue": "expected ':' (<ipython-input-221-7a649491257e>, line 5)",
          "traceback": [
            "\u001b[0;36m  File \u001b[0;32m\"<ipython-input-221-7a649491257e>\"\u001b[0;36m, line \u001b[0;32m5\u001b[0m\n\u001b[0;31m    if i == 1\u001b[0m\n\u001b[0m             ^\u001b[0m\n\u001b[0;31mSyntaxError\u001b[0m\u001b[0;31m:\u001b[0m expected ':'\n"
          ]
        }
      ]
    },
    {
      "cell_type": "code",
      "source": [
        "arrays = [\"水\", \"金\", \"地\", \"火\", \"木\", \"土\", \"天\", \"海\", \"冥\"]\n",
        "\n",
        "for array in arrays:\n",
        "    print (array)\n",
        "\n",
        "for array in arrays:\n",
        "    print (array)\n"
      ],
      "metadata": {
        "colab": {
          "base_uri": "https://localhost:8080/"
        },
        "id": "k6TGHA5ZlMgi",
        "outputId": "4df9514a-754c-42fa-fd46-d21835853616"
      },
      "execution_count": null,
      "outputs": [
        {
          "output_type": "stream",
          "name": "stdout",
          "text": [
            "水\n",
            "金\n",
            "地\n",
            "火\n",
            "木\n",
            "土\n",
            "天\n",
            "海\n",
            "冥\n",
            "水\n",
            "金\n",
            "地\n",
            "火\n",
            "木\n",
            "土\n",
            "天\n",
            "海\n",
            "冥\n"
          ]
        }
      ]
    },
    {
      "cell_type": "code",
      "source": [],
      "metadata": {
        "id": "-l3NcLRFvBXl"
      },
      "execution_count": null,
      "outputs": []
    },
    {
      "cell_type": "code",
      "source": [
        "arrays = [\"水\", \"金\", \"地\", \"火\", \"木\", \"土\", \"天\", \"海\", \"冥\"]\n",
        "\n",
        "i = 1\n",
        "\n",
        "while i < 3:\n",
        "  for array in arrays:\n",
        "    print (array)\n",
        "  i = i +1\n"
      ],
      "metadata": {
        "colab": {
          "base_uri": "https://localhost:8080/"
        },
        "id": "lSj9jckhtJob",
        "outputId": "1b72bdf3-ff41-4af0-9391-cf4050f54c99"
      },
      "execution_count": null,
      "outputs": [
        {
          "output_type": "stream",
          "name": "stdout",
          "text": [
            "水\n",
            "金\n",
            "地\n",
            "火\n",
            "木\n",
            "土\n",
            "天\n",
            "海\n",
            "冥\n",
            "水\n",
            "金\n",
            "地\n",
            "火\n",
            "木\n",
            "土\n",
            "天\n",
            "海\n",
            "冥\n"
          ]
        }
      ]
    }
  ]
}