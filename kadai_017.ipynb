{
  "nbformat": 4,
  "nbformat_minor": 0,
  "metadata": {
    "colab": {
      "provenance": []
    },
    "kernelspec": {
      "name": "python3",
      "display_name": "Python 3"
    },
    "language_info": {
      "name": "python"
    }
  },
  "cells": [
    {
      "cell_type": "code",
      "source": [],
      "metadata": {
        "id": "bTCFnb7Qfwpj"
      },
      "execution_count": null,
      "outputs": []
    },
    {
      "cell_type": "code",
      "source": [
        "user_name =\"侍花子\"\n",
        "\n",
        "def show_user_name():\n",
        "  user_name =\"侍太郎\"\n",
        "\n",
        "  print(user_name)\n",
        "\n",
        "show_user_name()\n",
        "\n",
        "print (user_name)"
      ],
      "metadata": {
        "id": "XNFpnm8PeHOZ"
      },
      "execution_count": null,
      "outputs": []
    },
    {
      "cell_type": "code",
      "source": [
        "price1 = 100\n",
        "price2 = 200\n",
        "\n",
        "def total():\n",
        "  tax = 1.1\n",
        "  return (price1 + price2) * tax\n",
        "\n",
        "print (total())"
      ],
      "metadata": {
        "id": "SFfhXkXAiZ8p"
      },
      "execution_count": null,
      "outputs": []
    },
    {
      "cell_type": "code",
      "source": [
        "class Product:\n",
        "  def __init__(self):\n",
        "    self.name = \"\"\n",
        "\n",
        "  def set_name(self, name):\n",
        "    self.name = name\n",
        "\n",
        "  def show_name(self):\n",
        "     print (self.name)\n",
        "\n",
        "cofee = Product()\n",
        "\n",
        "cofee.set_name(\"コーヒー\")\n",
        "cofee.show_name()\n"
      ],
      "metadata": {
        "id": "AkYw0YErofQE"
      },
      "execution_count": null,
      "outputs": []
    },
    {
      "cell_type": "code",
      "source": [
        "class User:\n",
        "\n",
        "  def __init__(self, name, age, gender):\n",
        "    self.name = name\n",
        "    self.age = age\n",
        "    self.gender =gender\n",
        "\n",
        "user = User(\"侍太郎\", 36, \"男性\")\n",
        "\n",
        "print (user.name)\n",
        "print (user.age)\n",
        "print (user.gender)"
      ],
      "metadata": {
        "id": "wppZPaHOrjVa"
      },
      "execution_count": null,
      "outputs": []
    },
    {
      "cell_type": "code",
      "source": [
        "class Human:\n",
        "  def __init__(self):\n",
        "    self.name = \"\"\n",
        "    self.age = \"\"\n",
        "\n",
        "  def set_name(self,name):\n",
        "    self.name = name\n",
        "\n",
        "  def show_name(self):\n",
        "    print(self.name)\n",
        "\n",
        "  def set_age(self,age):\n",
        "    self.age = age\n",
        "\n",
        "  def show_age(self):\n",
        "    print(self.age)\n",
        "\n",
        "human = Human()\n",
        "\n",
        "\n",
        "human.set_name(\"田中\")\n",
        "human.set_age(\"30\")\n",
        "human.show_name()\n",
        "human.show_age()"
      ],
      "metadata": {
        "id": "SfSMUT50sqdK"
      },
      "execution_count": null,
      "outputs": []
    },
    {
      "cell_type": "code",
      "source": [
        "class Human:\n",
        "  def __init__(self, name, age):\n",
        "    self.name = name\n",
        "    self.age = age\n",
        "\n",
        "  def printinfo(self):\n",
        "    print(self.name)\n",
        "    print(self.age)\n",
        "\n",
        "human = Human(\"田中\", 36)\n",
        "human.printinfo()\n"
      ],
      "metadata": {
        "id": "LOAF0klB2RJt"
      },
      "execution_count": null,
      "outputs": []
    },
    {
      "cell_type": "code",
      "source": [],
      "metadata": {
        "id": "7kyVGGnSHFbr"
      },
      "execution_count": null,
      "outputs": []
    },
    {
      "cell_type": "code",
      "source": [
        "!rm /etc/localtime\n",
        "!ln -s /usr/share/zoneinfo/Asia/Tokyo /etc/localtime\n",
        "!date"
      ],
      "metadata": {
        "colab": {
          "base_uri": "https://localhost:8080/"
        },
        "id": "Oj65Aw3h_pHt",
        "outputId": "4c05a5e1-8cb0-49d5-c704-5d4f18d5321e"
      },
      "execution_count": null,
      "outputs": [
        {
          "output_type": "stream",
          "name": "stdout",
          "text": [
            "Fri Jan 24 03:30:54 PM JST 2025\n"
          ]
        }
      ]
    },
    {
      "cell_type": "code",
      "source": [
        "import time\n",
        "print(time.strftime(\"%Y年%m月%d日%H時%M分%S秒\", time.localtime()))"
      ],
      "metadata": {
        "colab": {
          "base_uri": "https://localhost:8080/"
        },
        "id": "Fei1Zc7FAfEz",
        "outputId": "c046962e-9ec1-4396-d6ca-0958f260fc08"
      },
      "execution_count": null,
      "outputs": [
        {
          "output_type": "stream",
          "name": "stdout",
          "text": [
            "2025年01月24日15時33分01秒\n"
          ]
        }
      ]
    },
    {
      "cell_type": "code",
      "source": [
        "time.time()"
      ],
      "metadata": {
        "colab": {
          "base_uri": "https://localhost:8080/"
        },
        "id": "QM8ulbm7BBvL",
        "outputId": "93c46b36-a256-4dd2-8200-4107116e9b20"
      },
      "execution_count": null,
      "outputs": [
        {
          "output_type": "execute_result",
          "data": {
            "text/plain": [
              "1737700423.8801267"
            ]
          },
          "metadata": {},
          "execution_count": 3
        }
      ]
    },
    {
      "cell_type": "code",
      "source": [
        "import time\n",
        "print(time.time())"
      ],
      "metadata": {
        "colab": {
          "base_uri": "https://localhost:8080/"
        },
        "id": "eUOOnmiKBIVU",
        "outputId": "4dde42b7-30d7-4b91-8615-50b16ab288ca"
      },
      "execution_count": null,
      "outputs": [
        {
          "output_type": "stream",
          "name": "stdout",
          "text": [
            "1737700459.7513623\n"
          ]
        }
      ]
    },
    {
      "cell_type": "code",
      "source": [
        "import datetime\n",
        "date_time = datetime.datetime.strptime (\"2015-03-19 12:15:30\", \"%Y-%m-%d %H:%M:%S\")\n",
        "print(date_time)\n",
        "\n",
        "print(date_time.year)"
      ],
      "metadata": {
        "id": "sBk5POqzBkCY",
        "colab": {
          "base_uri": "https://localhost:8080/"
        },
        "outputId": "54bc2e97-cd7b-4372-d753-54c78996c854"
      },
      "execution_count": 6,
      "outputs": [
        {
          "output_type": "stream",
          "name": "stdout",
          "text": [
            "2015-03-19 12:15:30\n",
            "2015\n"
          ]
        }
      ]
    },
    {
      "cell_type": "code",
      "source": [
        "import datetime\n",
        "now = datetime.datetime.now()\n",
        "date_time = datetime.datetime.strptime(\"2015-03-19 12:15:30\", \"%Y-%m-%d %H:%M:%S\")\n",
        "interval = now - date_time\n",
        "print (f\"総日数は{interval.days}日です。\")"
      ],
      "metadata": {
        "colab": {
          "base_uri": "https://localhost:8080/"
        },
        "id": "4qRhYN7CC4Ip",
        "outputId": "58e9ebdb-76e3-41ce-ef27-f787d8cf3cf4"
      },
      "execution_count": 8,
      "outputs": [
        {
          "output_type": "stream",
          "name": "stdout",
          "text": [
            "総日数は3599日です。\n"
          ]
        }
      ]
    },
    {
      "cell_type": "code",
      "source": [
        "import time\n",
        "now = datetime.datetime.now()\n",
        "td_1y = datetime.timedelta (days=365)\n",
        "add = now + td_1y\n",
        "td_3d = datetime.timedelta(days=3)\n",
        "sub = now - td_3d\n",
        "print (add.strftime(\"現在から1年後は%Y年%m月%d日%H時%M分%S秒です。\"))\n",
        "print (sub.strftime(\"現在から３日後は%Y年%m月%d日%H時%M分%S秒です。\"))"
      ],
      "metadata": {
        "colab": {
          "base_uri": "https://localhost:8080/"
        },
        "id": "vhVUXQ5gDt3l",
        "outputId": "45097738-3767-427c-fdab-5cce68ffb74d"
      },
      "execution_count": 13,
      "outputs": [
        {
          "output_type": "stream",
          "name": "stdout",
          "text": [
            "現在から1年後は2026年01月24日15時53分03秒です。\n",
            "現在から３日後は2025年01月21日15時53分03秒です。\n"
          ]
        }
      ]
    },
    {
      "cell_type": "code",
      "source": [
        "age = 10\n",
        "\n",
        "if age >= 20:\n",
        "  print (\"大人です\")\n",
        "\n",
        "else:\n",
        "  print (\"大人ではない\")"
      ],
      "metadata": {
        "colab": {
          "base_uri": "https://localhost:8080/"
        },
        "id": "wkoQ0oekIOrv",
        "outputId": "4f44c6f4-b468-456c-facd-861f9bdf4a59"
      },
      "execution_count": 14,
      "outputs": [
        {
          "output_type": "stream",
          "name": "stdout",
          "text": [
            "大人ではない\n"
          ]
        }
      ]
    },
    {
      "cell_type": "code",
      "source": [
        "ages_dict = {\"田中\":10, \"山田\":25, \"佐藤\":19}\n",
        "\n",
        "class Human:\n",
        "  def __init__(self, name, age):\n",
        "    self.name = name\n",
        "    self.age = age\n",
        "\n",
        "  def check_adult(self):\n",
        "    if human.age >= 20:\n",
        "      print (f\"{self.name} {self.age}歳　大人です\")\n",
        "\n",
        "    else:\n",
        "      print (f\"{self.name} {self.age}歳　大人ではない\")\n",
        "\n",
        "humans_list = []\n",
        "\n",
        "for name, age in ages_dict.items():\n",
        "  human = Human(name, age)\n",
        "  humans_list.append(human)\n",
        "\n",
        "for human in humans_list:\n",
        "  human.check_adult()"
      ],
      "metadata": {
        "colab": {
          "base_uri": "https://localhost:8080/"
        },
        "id": "pwjoHvuPHGvp",
        "outputId": "d2086b74-9680-43f2-84f0-fa308bca12c6"
      },
      "execution_count": 25,
      "outputs": [
        {
          "output_type": "stream",
          "name": "stdout",
          "text": [
            "田中 10歳　大人ではない\n",
            "山田 25歳　大人です\n",
            "佐藤 19歳　大人ではない\n"
          ]
        }
      ]
    }
  ]
}