{
  "nbformat": 4,
  "nbformat_minor": 0,
  "metadata": {
    "colab": {
      "provenance": []
    },
    "kernelspec": {
      "name": "python3",
      "display_name": "Python 3"
    },
    "language_info": {
      "name": "python"
    }
  },
  "cells": [
    {
      "cell_type": "code",
      "source": [],
      "metadata": {
        "id": "bTCFnb7Qfwpj"
      },
      "execution_count": null,
      "outputs": []
    },
    {
      "cell_type": "code",
      "source": [
        "user_name =\"侍花子\"\n",
        "\n",
        "def show_user_name():\n",
        "  user_name =\"侍太郎\"\n",
        "\n",
        "  print(user_name)\n",
        "\n",
        "show_user_name()\n",
        "\n",
        "print (user_name)"
      ],
      "metadata": {
        "colab": {
          "base_uri": "https://localhost:8080/"
        },
        "id": "XNFpnm8PeHOZ",
        "outputId": "18c59527-2d8a-495c-aaff-c76689e2a0c1"
      },
      "execution_count": 316,
      "outputs": [
        {
          "output_type": "stream",
          "name": "stdout",
          "text": [
            "侍太郎\n",
            "侍花子\n"
          ]
        }
      ]
    },
    {
      "cell_type": "code",
      "source": [
        "price1 = 100\n",
        "price2 = 200\n",
        "\n",
        "def total():\n",
        "  tax = 1.1\n",
        "  return (price1 + price2) * tax\n",
        "\n",
        "print (total())"
      ],
      "metadata": {
        "colab": {
          "base_uri": "https://localhost:8080/"
        },
        "id": "SFfhXkXAiZ8p",
        "outputId": "f0d73724-89c5-4c86-d1ee-055e9559c55c"
      },
      "execution_count": 328,
      "outputs": [
        {
          "output_type": "stream",
          "name": "stdout",
          "text": [
            "330.0\n"
          ]
        }
      ]
    },
    {
      "cell_type": "code",
      "source": [
        "class Product:\n",
        "  def __init__(self):\n",
        "    self.name = \"\"\n",
        "\n",
        "  def set_name(self, name):\n",
        "    self.name = name\n",
        "\n",
        "  def show_name(self):\n",
        "     print (self.name)\n",
        "\n",
        "cofee = Product()\n",
        "\n",
        "cofee.set_name(\"コーヒー\")\n",
        "cofee.show_name()\n"
      ],
      "metadata": {
        "colab": {
          "base_uri": "https://localhost:8080/"
        },
        "id": "AkYw0YErofQE",
        "outputId": "8c4e6823-9af0-4bff-86f3-a2caea70af0a"
      },
      "execution_count": 330,
      "outputs": [
        {
          "output_type": "stream",
          "name": "stdout",
          "text": [
            "コーヒー\n"
          ]
        }
      ]
    },
    {
      "cell_type": "code",
      "source": [
        "class User:\n",
        "\n",
        "  def __init__(self, name, age, gender):\n",
        "    self.name = name\n",
        "    self.age = age\n",
        "    self.gender =gender\n",
        "\n",
        "user = User(\"侍太郎\", 36, \"男性\")\n",
        "\n",
        "print (user.name)\n",
        "print (user.age)\n",
        "print (user.gender)"
      ],
      "metadata": {
        "colab": {
          "base_uri": "https://localhost:8080/"
        },
        "id": "wppZPaHOrjVa",
        "outputId": "b2469f72-8d7b-4df6-b108-c53fb5422438"
      },
      "execution_count": 331,
      "outputs": [
        {
          "output_type": "stream",
          "name": "stdout",
          "text": [
            "侍太郎\n",
            "36\n",
            "男性\n"
          ]
        }
      ]
    },
    {
      "cell_type": "code",
      "source": [
        "class Human:\n",
        "  def __init__(self):\n",
        "    self.name = \"\"\n",
        "    self.age = \"\"\n",
        "\n",
        "  def set_name(self,name):\n",
        "    self.name = name\n",
        "\n",
        "  def show_name(self):\n",
        "    print(self.name)\n",
        "\n",
        "  def set_age(self,age):\n",
        "    self.age = age\n",
        "\n",
        "  def show_age(self):\n",
        "    print(self.age)\n",
        "\n",
        "human = Human()\n",
        "\n",
        "\n",
        "human.set_name(\"田中\")\n",
        "human.set_age(\"30\")\n",
        "human.show_name()\n",
        "human.show_age()"
      ],
      "metadata": {
        "colab": {
          "base_uri": "https://localhost:8080/"
        },
        "id": "SfSMUT50sqdK",
        "outputId": "19b726ce-ef1c-495a-fd89-b55d606e1dd9"
      },
      "execution_count": 351,
      "outputs": [
        {
          "output_type": "stream",
          "name": "stdout",
          "text": [
            "田中\n",
            "30\n"
          ]
        }
      ]
    },
    {
      "cell_type": "code",
      "source": [
        "class Human:\n",
        "  def __init__(self, name, age):\n",
        "    self.name = name\n",
        "    self.age = age\n",
        "\n",
        "  def printinfo(self):\n",
        "    print(self.name)\n",
        "    print(self.age)\n",
        "\n",
        "human = Human(\"田中\", 36)\n",
        "human.printinfo()\n"
      ],
      "metadata": {
        "colab": {
          "base_uri": "https://localhost:8080/"
        },
        "id": "LOAF0klB2RJt",
        "outputId": "6cba38d8-aaaa-484b-c477-b1b3cc7b321c"
      },
      "execution_count": 358,
      "outputs": [
        {
          "output_type": "stream",
          "name": "stdout",
          "text": [
            "田中\n",
            "36\n"
          ]
        }
      ]
    }
  ]
}